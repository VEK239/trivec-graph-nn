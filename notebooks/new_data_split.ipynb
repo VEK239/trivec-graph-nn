{
 "cells": [
  {
   "cell_type": "code",
   "execution_count": 24,
   "metadata": {
    "collapsed": true,
    "pycharm": {
     "is_executing": false
    }
   },
   "outputs": [],
   "source": [
    "import pandas as pd"
   ]
  },
  {
   "cell_type": "code",
   "execution_count": 25,
   "outputs": [],
   "source": [
    "DATA_PATH = '../data/'"
   ],
   "metadata": {
    "collapsed": false,
    "pycharm": {
     "name": "#%%\n",
     "is_executing": false
    }
   }
  },
  {
   "cell_type": "code",
   "execution_count": 26,
   "outputs": [],
   "source": [
    "train_data = pd.read_csv(DATA_PATH + 'polyphar_train.csv')\n",
    "valid_data = pd.read_csv(DATA_PATH + 'polyphar_validate.csv')\n",
    "test_data = pd.read_csv(DATA_PATH + 'polyphar_test.csv')"
   ],
   "metadata": {
    "collapsed": false,
    "pycharm": {
     "name": "#%%\n",
     "is_executing": false
    }
   }
  },
  {
   "cell_type": "code",
   "execution_count": 27,
   "outputs": [
    {
     "data": {
      "text/plain": "               from           rel            to\ncount  3.661895e+06  3.661895e+06  3.661895e+06\nmean   3.408311e+02  4.957052e+02  3.282338e+02\nstd    1.816222e+02  2.823224e+02  1.875923e+02\nmin    0.000000e+00  0.000000e+00  0.000000e+00\n25%    1.990000e+02  2.420000e+02  1.640000e+02\n50%    3.580000e+02  5.110000e+02  3.320000e+02\n75%    5.000000e+02  7.400000e+02  4.980000e+02\nmax    6.440000e+02  9.620000e+02  6.440000e+02",
      "text/html": "<div>\n<style scoped>\n    .dataframe tbody tr th:only-of-type {\n        vertical-align: middle;\n    }\n\n    .dataframe tbody tr th {\n        vertical-align: top;\n    }\n\n    .dataframe thead th {\n        text-align: right;\n    }\n</style>\n<table border=\"1\" class=\"dataframe\">\n  <thead>\n    <tr style=\"text-align: right;\">\n      <th></th>\n      <th>from</th>\n      <th>rel</th>\n      <th>to</th>\n    </tr>\n  </thead>\n  <tbody>\n    <tr>\n      <th>count</th>\n      <td>3.661895e+06</td>\n      <td>3.661895e+06</td>\n      <td>3.661895e+06</td>\n    </tr>\n    <tr>\n      <th>mean</th>\n      <td>3.408311e+02</td>\n      <td>4.957052e+02</td>\n      <td>3.282338e+02</td>\n    </tr>\n    <tr>\n      <th>std</th>\n      <td>1.816222e+02</td>\n      <td>2.823224e+02</td>\n      <td>1.875923e+02</td>\n    </tr>\n    <tr>\n      <th>min</th>\n      <td>0.000000e+00</td>\n      <td>0.000000e+00</td>\n      <td>0.000000e+00</td>\n    </tr>\n    <tr>\n      <th>25%</th>\n      <td>1.990000e+02</td>\n      <td>2.420000e+02</td>\n      <td>1.640000e+02</td>\n    </tr>\n    <tr>\n      <th>50%</th>\n      <td>3.580000e+02</td>\n      <td>5.110000e+02</td>\n      <td>3.320000e+02</td>\n    </tr>\n    <tr>\n      <th>75%</th>\n      <td>5.000000e+02</td>\n      <td>7.400000e+02</td>\n      <td>4.980000e+02</td>\n    </tr>\n    <tr>\n      <th>max</th>\n      <td>6.440000e+02</td>\n      <td>9.620000e+02</td>\n      <td>6.440000e+02</td>\n    </tr>\n  </tbody>\n</table>\n</div>"
     },
     "metadata": {},
     "output_type": "execute_result",
     "execution_count": 27
    },
    {
     "data": {
      "text/plain": "<Figure size 432x288 with 4 Axes>",
      "image/png": "[encoded data removed]"
     },
     "metadata": {
      "needs_background": "light"
     },
     "output_type": "display_data"
    }
   ],
   "source": [
    "train_data.hist()\n",
    "\n",
    "train_data.describe()"
   ],
   "metadata": {
    "collapsed": false,
    "pycharm": {
     "name": "#%%\n",
     "is_executing": false
    }
   }
  },
  {
   "cell_type": "code",
   "execution_count": 28,
   "outputs": [],
   "source": [
    "train_data_630 = train_data[(train_data['from'] > 630) | (train_data['to'] > 630)]"
   ],
   "metadata": {
    "collapsed": false,
    "pycharm": {
     "name": "#%%\n",
     "is_executing": false
    }
   }
  },
  {
   "cell_type": "code",
   "execution_count": 29,
   "outputs": [
    {
     "name": "stdout",
     "text": [
      "Count of elements with from/to element > 630: 142439\nCount of elements in train: 3661895\nPercent from all train data is 3.88976199481416\n"
     ],
     "output_type": "stream"
    }
   ],
   "source": [
    "print('Count of elements with from/to element > 630:', len(train_data_630))\n",
    "print('Count of elements in train:', len(train_data))\n",
    "print('Percent from all train data is', len(train_data_630) / len(train_data) * 100)"
   ],
   "metadata": {
    "collapsed": false,
    "pycharm": {
     "name": "#%%\n",
     "is_executing": false
    }
   }
  },
  {
   "cell_type": "code",
   "execution_count": 30,
   "outputs": [
    {
     "data": {
      "text/plain": "                from            rel             to\ncount  142439.000000  142439.000000  142439.000000\nmean      461.099748     500.419808     507.785705\nstd       202.048712     281.483345     198.572391\nmin         0.000000       0.000000       2.000000\n25%       298.000000     249.000000     385.000000\n50%       541.000000     520.000000     636.000000\n75%       639.000000     742.000000     639.000000\nmax       644.000000     962.000000     644.000000",
      "text/html": "<div>\n<style scoped>\n    .dataframe tbody tr th:only-of-type {\n        vertical-align: middle;\n    }\n\n    .dataframe tbody tr th {\n        vertical-align: top;\n    }\n\n    .dataframe thead th {\n        text-align: right;\n    }\n</style>\n<table border=\"1\" class=\"dataframe\">\n  <thead>\n    <tr style=\"text-align: right;\">\n      <th></th>\n      <th>from</th>\n      <th>rel</th>\n      <th>to</th>\n    </tr>\n  </thead>\n  <tbody>\n    <tr>\n      <th>count</th>\n      <td>142439.000000</td>\n      <td>142439.000000</td>\n      <td>142439.000000</td>\n    </tr>\n    <tr>\n      <th>mean</th>\n      <td>461.099748</td>\n      <td>500.419808</td>\n      <td>507.785705</td>\n    </tr>\n    <tr>\n      <th>std</th>\n      <td>202.048712</td>\n      <td>281.483345</td>\n      <td>198.572391</td>\n    </tr>\n    <tr>\n      <th>min</th>\n      <td>0.000000</td>\n      <td>0.000000</td>\n      <td>2.000000</td>\n    </tr>\n    <tr>\n      <th>25%</th>\n      <td>298.000000</td>\n      <td>249.000000</td>\n      <td>385.000000</td>\n    </tr>\n    <tr>\n      <th>50%</th>\n      <td>541.000000</td>\n      <td>520.000000</td>\n      <td>636.000000</td>\n    </tr>\n    <tr>\n      <th>75%</th>\n      <td>639.000000</td>\n      <td>742.000000</td>\n      <td>639.000000</td>\n    </tr>\n    <tr>\n      <th>max</th>\n      <td>644.000000</td>\n      <td>962.000000</td>\n      <td>644.000000</td>\n    </tr>\n  </tbody>\n</table>\n</div>"
     },
     "metadata": {},
     "output_type": "execute_result",
     "execution_count": 30
    }
   ],
   "source": [
    "train_data_630.describe()"
   ],
   "metadata": {
    "collapsed": false,
    "pycharm": {
     "name": "#%%\n",
     "is_executing": false
    }
   }
  },
  {
   "cell_type": "code",
   "execution_count": 31,
   "outputs": [
    {
     "data": {
      "text/plain": "         from  rel   to\n32         84  442  642\n33        296  442  642\n36        642  442  299\n39        642  442  400\n120       479  442  642\n...       ...  ...  ...\n3661799   639  299  480\n3661805   639  299  539\n3661831   639  299  310\n3661865   135  299  639\n3661882   639  299  529\n\n[142439 rows x 3 columns]",
      "text/html": "<div>\n<style scoped>\n    .dataframe tbody tr th:only-of-type {\n        vertical-align: middle;\n    }\n\n    .dataframe tbody tr th {\n        vertical-align: top;\n    }\n\n    .dataframe thead th {\n        text-align: right;\n    }\n</style>\n<table border=\"1\" class=\"dataframe\">\n  <thead>\n    <tr style=\"text-align: right;\">\n      <th></th>\n      <th>from</th>\n      <th>rel</th>\n      <th>to</th>\n    </tr>\n  </thead>\n  <tbody>\n    <tr>\n      <th>32</th>\n      <td>84</td>\n      <td>442</td>\n      <td>642</td>\n    </tr>\n    <tr>\n      <th>33</th>\n      <td>296</td>\n      <td>442</td>\n      <td>642</td>\n    </tr>\n    <tr>\n      <th>36</th>\n      <td>642</td>\n      <td>442</td>\n      <td>299</td>\n    </tr>\n    <tr>\n      <th>39</th>\n      <td>642</td>\n      <td>442</td>\n      <td>400</td>\n    </tr>\n    <tr>\n      <th>120</th>\n      <td>479</td>\n      <td>442</td>\n      <td>642</td>\n    </tr>\n    <tr>\n      <th>...</th>\n      <td>...</td>\n      <td>...</td>\n      <td>...</td>\n    </tr>\n    <tr>\n      <th>3661799</th>\n      <td>639</td>\n      <td>299</td>\n      <td>480</td>\n    </tr>\n    <tr>\n      <th>3661805</th>\n      <td>639</td>\n      <td>299</td>\n      <td>539</td>\n    </tr>\n    <tr>\n      <th>3661831</th>\n      <td>639</td>\n      <td>299</td>\n      <td>310</td>\n    </tr>\n    <tr>\n      <th>3661865</th>\n      <td>135</td>\n      <td>299</td>\n      <td>639</td>\n    </tr>\n    <tr>\n      <th>3661882</th>\n      <td>639</td>\n      <td>299</td>\n      <td>529</td>\n    </tr>\n  </tbody>\n</table>\n<p>142439 rows × 3 columns</p>\n</div>"
     },
     "metadata": {},
     "output_type": "execute_result",
     "execution_count": 31
    }
   ],
   "source": [
    "train_data_630"
   ],
   "metadata": {
    "collapsed": false,
    "pycharm": {
     "name": "#%%\n",
     "is_executing": false
    }
   }
  },
  {
   "cell_type": "code",
   "execution_count": 32,
   "outputs": [],
   "source": [
    "train_data = train_data[~((train_data['from'] > 630) | (train_data['to'] > 630))]"
   ],
   "metadata": {
    "collapsed": false,
    "pycharm": {
     "name": "#%%\n",
     "is_executing": false
    }
   }
  },
  {
   "cell_type": "code",
   "execution_count": 33,
   "outputs": [],
   "source": [
    "train_data_630 = train_data_630.reset_index().drop(columns=['index'])"
   ],
   "metadata": {
    "collapsed": false,
    "pycharm": {
     "name": "#%%\n",
     "is_executing": false
    }
   }
  },
  {
   "cell_type": "code",
   "execution_count": 34,
   "outputs": [],
   "source": [
    "train_data_630 = train_data_630.sample(frac=1).reset_index(drop=True)"
   ],
   "metadata": {
    "collapsed": false,
    "pycharm": {
     "name": "#%%\n",
     "is_executing": false
    }
   }
  },
  {
   "cell_type": "code",
   "execution_count": 35,
   "outputs": [],
   "source": [
    "train_data_630['val'] = pd.Series([0 for _ in range(len(train_data_630) // 2)] + \n",
    "                                  [1 for _ in range(len(train_data_630) // 2 + 1)])"
   ],
   "metadata": {
    "collapsed": false,
    "pycharm": {
     "name": "#%%\n",
     "is_executing": false
    }
   }
  },
  {
   "cell_type": "code",
   "execution_count": 36,
   "outputs": [
    {
     "data": {
      "text/plain": "        from  rel   to  val\n0        406  136  642    0\n1        482  635  639    0\n2        639  511  118    0\n3        639  216  170    0\n4        637  572  484    0\n...      ...  ...  ...  ...\n142434   301  572  634    1\n142435   639  879    2    1\n142436   639  334  194    1\n142437   335   86  639    1\n142438    59  387  639    1\n\n[142439 rows x 4 columns]",
      "text/html": "<div>\n<style scoped>\n    .dataframe tbody tr th:only-of-type {\n        vertical-align: middle;\n    }\n\n    .dataframe tbody tr th {\n        vertical-align: top;\n    }\n\n    .dataframe thead th {\n        text-align: right;\n    }\n</style>\n<table border=\"1\" class=\"dataframe\">\n  <thead>\n    <tr style=\"text-align: right;\">\n      <th></th>\n      <th>from</th>\n      <th>rel</th>\n      <th>to</th>\n      <th>val</th>\n    </tr>\n  </thead>\n  <tbody>\n    <tr>\n      <th>0</th>\n      <td>406</td>\n      <td>136</td>\n      <td>642</td>\n      <td>0</td>\n    </tr>\n    <tr>\n      <th>1</th>\n      <td>482</td>\n      <td>635</td>\n      <td>639</td>\n      <td>0</td>\n    </tr>\n    <tr>\n      <th>2</th>\n      <td>639</td>\n      <td>511</td>\n      <td>118</td>\n      <td>0</td>\n    </tr>\n    <tr>\n      <th>3</th>\n      <td>639</td>\n      <td>216</td>\n      <td>170</td>\n      <td>0</td>\n    </tr>\n    <tr>\n      <th>4</th>\n      <td>637</td>\n      <td>572</td>\n      <td>484</td>\n      <td>0</td>\n    </tr>\n    <tr>\n      <th>...</th>\n      <td>...</td>\n      <td>...</td>\n      <td>...</td>\n      <td>...</td>\n    </tr>\n    <tr>\n      <th>142434</th>\n      <td>301</td>\n      <td>572</td>\n      <td>634</td>\n      <td>1</td>\n    </tr>\n    <tr>\n      <th>142435</th>\n      <td>639</td>\n      <td>879</td>\n      <td>2</td>\n      <td>1</td>\n    </tr>\n    <tr>\n      <th>142436</th>\n      <td>639</td>\n      <td>334</td>\n      <td>194</td>\n      <td>1</td>\n    </tr>\n    <tr>\n      <th>142437</th>\n      <td>335</td>\n      <td>86</td>\n      <td>639</td>\n      <td>1</td>\n    </tr>\n    <tr>\n      <th>142438</th>\n      <td>59</td>\n      <td>387</td>\n      <td>639</td>\n      <td>1</td>\n    </tr>\n  </tbody>\n</table>\n<p>142439 rows × 4 columns</p>\n</div>"
     },
     "metadata": {},
     "output_type": "execute_result",
     "execution_count": 36
    }
   ],
   "source": [
    "train_data_630"
   ],
   "metadata": {
    "collapsed": false,
    "pycharm": {
     "name": "#%%\n",
     "is_executing": false
    }
   }
  },
  {
   "cell_type": "code",
   "execution_count": 37,
   "outputs": [],
   "source": [
    "extra_valid = train_data_630[train_data_630['val'] == 1].drop(columns=['val'])\n",
    "extra_test = train_data_630[train_data_630['val'] == 0].drop(columns=['val'])"
   ],
   "metadata": {
    "collapsed": false,
    "pycharm": {
     "name": "#%%\n",
     "is_executing": false
    }
   }
  },
  {
   "cell_type": "code",
   "execution_count": 38,
   "outputs": [],
   "source": [
    "valid_data = pd.concat([valid_data, extra_valid])"
   ],
   "metadata": {
    "collapsed": false,
    "pycharm": {
     "name": "#%%\n",
     "is_executing": false
    }
   }
  },
  {
   "cell_type": "code",
   "execution_count": 39,
   "outputs": [],
   "source": [
    "test_data = pd.concat([test_data, extra_test])"
   ],
   "metadata": {
    "collapsed": false,
    "pycharm": {
     "name": "#%%\n",
     "is_executing": false
    }
   }
  },
  {
   "cell_type": "code",
   "execution_count": 40,
   "outputs": [],
   "source": [
    "train_data.to_csv('../new_data/polyphar_train.csv', index=False)\n",
    "valid_data.to_csv('../new_data/polyphar_validate.csv', index=False)\n",
    "test_data.to_csv('../new_data/polyphar_test.csv', index=False)\n"
   ],
   "metadata": {
    "collapsed": false,
    "pycharm": {
     "name": "#%%\n",
     "is_executing": false
    }
   }
  },
  {
   "cell_type": "code",
   "execution_count": 41,
   "outputs": [],
   "source": [
    "test_data_seen = test_data[~((test_data['from'] > 630) | (test_data['to'] > 630))]\n",
    "test_data_630 = test_data[(test_data['from'] > 630) | (test_data['to'] > 630)]"
   ],
   "metadata": {
    "collapsed": false,
    "pycharm": {
     "name": "#%%\n",
     "is_executing": false
    }
   }
  },
  {
   "cell_type": "code",
   "execution_count": 42,
   "outputs": [],
   "source": [
    "test_data_seen.to_csv('../new_data/polyphar_test_seen.csv', index=False)\n",
    "test_data_630.to_csv('../new_data/polyphar_test_new.csv', index=False)"
   ],
   "metadata": {
    "collapsed": false,
    "pycharm": {
     "name": "#%%\n",
     "is_executing": false
    }
   }
  }
 ],
 "metadata": {
  "kernelspec": {
   "display_name": "Python 3",
   "language": "python",
   "name": "python3"
  },
  "language_info": {
   "codemirror_mode": {
    "name": "ipython",
    "version": 2
   },
   "file_extension": ".py",
   "mimetype": "text/x-python",
   "name": "python",
   "nbconvert_exporter": "python",
   "pygments_lexer": "ipython2",
   "version": "2.7.6"
  },
  "pycharm": {
   "stem_cell": {
    "cell_type": "raw",
    "source": [],
    "metadata": {
     "collapsed": false
    }
   }
  }
 },
 "nbformat": 4,
 "nbformat_minor": 0
}